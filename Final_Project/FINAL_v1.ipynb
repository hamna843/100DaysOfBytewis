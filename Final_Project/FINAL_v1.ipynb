{
  "cells": [
    {
      "cell_type": "code",
      "execution_count": 3,
      "metadata": {
        "id": "OjCYx5bLT4-d"
      },
      "outputs": [],
      "source": [
        "import numpy as np\n",
        "import pandas as pd\n",
        "import os\n",
        "import cv2\n",
        "from sklearn.model_selection import train_test_split\n",
        "from sklearn.preprocessing import LabelEncoder\n",
        "from sklearn.ensemble import RandomForestClassifier\n",
        "from sklearn.metrics import accuracy_score, classification_report\n",
        "import tensorflow as tf\n",
        "from tensorflow.keras.models import Sequential\n",
        "from tensorflow.keras.layers import Conv2D, MaxPooling2D, Flatten, Dense, Dropout\n",
        "from tensorflow.keras.preprocessing.image import ImageDataGenerator\n",
        "import pickle\n"
      ]
    },
    {
      "cell_type": "code",
      "execution_count": 4,
      "metadata": {
        "colab": {
          "base_uri": "https://localhost:8080/"
        },
        "id": "0rDP6werT_wS",
        "outputId": "3b293ab2-5899-4bf0-8e94-ef79394e98b8"
      },
      "outputs": [
        {
          "name": "stderr",
          "output_type": "stream",
          "text": [
            "'unzip' is not recognized as an internal or external command,\n",
            "operable program or batch file.\n"
          ]
        }
      ],
      "source": [
        "from zipfile import ZipFile\n",
        "!unzip rice_disease.zip"
      ]
    },
    {
      "cell_type": "code",
      "execution_count": 5,
      "metadata": {
        "id": "MBkxgwi3UDn2"
      },
      "outputs": [],
      "source": [
        "# Load the dataset\n",
        "data_dir = 'Rice_Leaf_AUG'  # Change to your dataset path\n",
        "categories = os.listdir(data_dir)\n",
        "images = []\n",
        "labels = []\n",
        "\n",
        "for category in categories:\n",
        "    folder_path = os.path.join(data_dir, category)\n",
        "    for img_name in os.listdir(folder_path):\n",
        "        img_path = os.path.join(folder_path, img_name)\n",
        "        img = cv2.imread(img_path)\n",
        "        img = cv2.resize(img, (150, 150))  # Resize images to 128x128\n",
        "        images.append(img)\n",
        "        labels.append(category)\n",
        "\n",
        "images = np.array(images)\n",
        "labels = np.array(labels)\n",
        "\n",
        "# Encode labels\n",
        "label_encoder = LabelEncoder()\n",
        "labels = label_encoder.fit_transform(labels)\n",
        "with open('label_encoder.pkl', 'wb') as f:\n",
        "    pickle.dump(label_encoder, f)\n",
        "# Train-test split\n",
        "X_train, X_test, y_train, y_test = train_test_split(images, labels, test_size=0.2, random_state=42)\n",
        "X_train = X_train / 255.0\n",
        "X_test = X_test / 255.0\n"
      ]
    },
    {
      "cell_type": "code",
      "execution_count": 11,
      "metadata": {},
      "outputs": [],
      "source": [
        "from tensorflow.keras.applications import VGG16\n",
        "from tensorflow.keras.layers import GlobalAveragePooling2D\n",
        "from tensorflow.keras.models import Model\n",
        "\n",
        "base_model = VGG16(weights='imagenet', include_top=False, input_shape=(150, 150, 3))\n",
        "x = base_model.output\n",
        "x = GlobalAveragePooling2D()(x)\n",
        "x = Dense(1024, activation='relu')(x)\n",
        "feature_extractor = Model(inputs=base_model.input, outputs=x)\n"
      ]
    },
    {
      "cell_type": "code",
      "execution_count": 12,
      "metadata": {},
      "outputs": [
        {
          "name": "stdout",
          "output_type": "stream",
          "text": [
            "96/96 [==============================] - 189s 2s/step\n",
            "24/24 [==============================] - 49s 2s/step\n"
          ]
        }
      ],
      "source": [
        "# Extract features\n",
        "def extract_features(images):\n",
        "    features = feature_extractor.predict(images)\n",
        "    return features\n",
        "\n",
        "train_features = extract_features(X_train)\n",
        "test_features = extract_features(X_test)"
      ]
    },
    {
      "cell_type": "code",
      "execution_count": 14,
      "metadata": {},
      "outputs": [
        {
          "name": "stdout",
          "output_type": "stream",
          "text": [
            "Random Forest Accuracy: 0.7689295039164491\n",
            "                       precision    recall  f1-score   support\n",
            "\n",
            "Bacterial Leaf Blight       0.86      0.77      0.81       147\n",
            "           Brown Spot       0.72      0.76      0.74       123\n",
            "    Healthy Rice Leaf       0.90      0.85      0.88       130\n",
            "           Leaf Blast       0.77      0.69      0.73       131\n",
            "           Leaf scald       0.71      0.72      0.72       115\n",
            "        Sheath Blight       0.67      0.82      0.74       120\n",
            "\n",
            "             accuracy                           0.77       766\n",
            "            macro avg       0.77      0.77      0.77       766\n",
            "         weighted avg       0.78      0.77      0.77       766\n",
            "\n"
          ]
        }
      ],
      "source": [
        "# Train Random Forest model\n",
        "rf_model = RandomForestClassifier(n_estimators=100, random_state=42)\n",
        "rf_model.fit(train_features, y_train)\n",
        "\n",
        "y_pred = rf_model.predict(test_features)\n",
        "print(f\"Random Forest Accuracy: {accuracy_score(y_test, y_pred)}\")\n",
        "print(classification_report(y_test, y_pred, target_names=label_encoder.classes_))"
      ]
    },
    {
      "cell_type": "code",
      "execution_count": 16,
      "metadata": {},
      "outputs": [
        {
          "name": "stdout",
          "output_type": "stream",
          "text": [
            "WARNING:tensorflow:Compiled the loaded model, but the compiled metrics have yet to be built. `model.compile_metrics` will be empty until you train or evaluate the model.\n"
          ]
        },
        {
          "name": "stdout",
          "output_type": "stream",
          "text": [
            "Models saved successfully!\n"
          ]
        },
        {
          "name": "stderr",
          "output_type": "stream",
          "text": [
            "c:\\Users\\noorh\\Documents\\Bytewise\\rice_disease_detection\\menv\\lib\\site-packages\\keras\\src\\engine\\training.py:3000: UserWarning: You are saving your model as an HDF5 file via `model.save()`. This file format is considered legacy. We recommend using instead the native Keras format, e.g. `model.save('my_model.keras')`.\n",
            "  saving_api.save_model(\n"
          ]
        }
      ],
      "source": [
        "os.makedirs(\"models\", exist_ok=True)\n",
        "feature_extractor.save(os.path.join(\"models\", 'cnn_model.h5'))\n",
        "with open(os.path.join(\"models\", 'rf_model.pkl'), 'wb') as f:\n",
        "    pickle.dump(rf_model, f)\n",
        "\n",
        "print(\"Models saved successfully!\")"
      ]
    },
    {
      "cell_type": "markdown",
      "metadata": {},
      "source": [
        "**CNN MODEL FOR CLASSIFICATION**"
      ]
    },
    {
      "cell_type": "code",
      "execution_count": 18,
      "metadata": {
        "colab": {
          "base_uri": "https://localhost:8080/"
        },
        "id": "KqaVn-25UJFV",
        "outputId": "5450874c-5a0a-4969-e32a-b7015c6fbbd9"
      },
      "outputs": [
        {
          "name": "stdout",
          "output_type": "stream",
          "text": [
            "Epoch 1/10\n",
            "96/96 [==============================] - 64s 647ms/step - loss: 1.7740 - accuracy: 0.2488 - val_loss: 1.6075 - val_accuracy: 0.3290\n",
            "Epoch 2/10\n",
            "96/96 [==============================] - 57s 592ms/step - loss: 1.6009 - accuracy: 0.3183 - val_loss: 1.4620 - val_accuracy: 0.3851\n",
            "Epoch 3/10\n",
            "96/96 [==============================] - 58s 601ms/step - loss: 1.5004 - accuracy: 0.3817 - val_loss: 1.2610 - val_accuracy: 0.5209\n",
            "Epoch 4/10\n",
            "96/96 [==============================] - 60s 622ms/step - loss: 1.3756 - accuracy: 0.4600 - val_loss: 1.1193 - val_accuracy: 0.5796\n",
            "Epoch 5/10\n",
            "96/96 [==============================] - 60s 623ms/step - loss: 1.2818 - accuracy: 0.4989 - val_loss: 1.0650 - val_accuracy: 0.6162\n",
            "Epoch 6/10\n",
            "96/96 [==============================] - 61s 638ms/step - loss: 1.2127 - accuracy: 0.5260 - val_loss: 0.9645 - val_accuracy: 0.6436\n",
            "Epoch 7/10\n",
            "96/96 [==============================] - 70s 730ms/step - loss: 1.2076 - accuracy: 0.5446 - val_loss: 0.9671 - val_accuracy: 0.6580\n",
            "Epoch 8/10\n",
            "96/96 [==============================] - 70s 727ms/step - loss: 1.1326 - accuracy: 0.5655 - val_loss: 1.0099 - val_accuracy: 0.6097\n",
            "Epoch 9/10\n",
            "96/96 [==============================] - 70s 728ms/step - loss: 1.1107 - accuracy: 0.5844 - val_loss: 0.9920 - val_accuracy: 0.6266\n",
            "Epoch 10/10\n",
            "96/96 [==============================] - 53s 547ms/step - loss: 1.0666 - accuracy: 0.6072 - val_loss: 0.9310 - val_accuracy: 0.6488\n"
          ]
        }
      ],
      "source": [
        "# Define the CNN model\n",
        "cnn_model = Sequential([\n",
        "    Conv2D(32, (3, 3), activation='relu', input_shape=(150, 150, 3)),\n",
        "    MaxPooling2D(2, 2),\n",
        "    Conv2D(64, (3, 3), activation='relu'),\n",
        "    MaxPooling2D(2, 2),\n",
        "    Conv2D(128, (3, 3), activation='relu'),\n",
        "    MaxPooling2D(2, 2),\n",
        "    Flatten(),\n",
        "    Dense(128, activation='relu'),\n",
        "    Dropout(0.5),\n",
        "    Dense(len(np.unique(y_train)), activation='softmax')\n",
        "])\n",
        "\n",
        "# Compile the model\n",
        "cnn_model.compile(optimizer='adam', loss='sparse_categorical_crossentropy', metrics=['accuracy'])\n",
        "\n",
        "# Data augmentation\n",
        "datagen = ImageDataGenerator(rotation_range=20, zoom_range=0.15, width_shift_range=0.2, height_shift_range=0.2, horizontal_flip=True)\n",
        "datagen.fit(X_train)\n",
        "\n",
        "# Train the model\n",
        "cnn_model.fit(datagen.flow(X_train, y_train, batch_size=32), epochs=10, validation_data=(X_test, y_test))\n",
        "\n",
        "# Save the CNN model\n",
        "cnn_model.save('CNN_MODEL.h5')\n"
      ]
    }
  ],
  "metadata": {
    "colab": {
      "provenance": []
    },
    "kernelspec": {
      "display_name": "Python 3",
      "name": "python3"
    },
    "language_info": {
      "codemirror_mode": {
        "name": "ipython",
        "version": 3
      },
      "file_extension": ".py",
      "mimetype": "text/x-python",
      "name": "python",
      "nbconvert_exporter": "python",
      "pygments_lexer": "ipython3",
      "version": "3.10.4"
    }
  },
  "nbformat": 4,
  "nbformat_minor": 0
}
